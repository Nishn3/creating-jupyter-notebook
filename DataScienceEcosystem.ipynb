{
 "cells": [
  {
   "cell_type": "markdown",
   "id": "5cb5c579",
   "metadata": {},
   "source": [
    "# Data Science Tools and Ecosystem"
   ]
  },
  {
   "cell_type": "markdown",
   "id": "1bfd2c44",
   "metadata": {},
   "source": [
    "In this notebook, Data Science Tools and Ecosystem are summarized."
   ]
  },
  {
   "cell_type": "markdown",
   "id": "15da62d0",
   "metadata": {},
   "source": [
    "### Objectives:"
   ]
  },
  {
   "cell_type": "markdown",
   "id": "9ae8bf53",
   "metadata": {},
   "source": [
    "   1. Introduction of programming languages used in Data Science\n",
    "   2. Introduction of Development environments used by Data Scientists\n",
    "   3. Presentation of formatting features of Jupyter notebook cells\n",
    "   4. Presentation of Python use in Jupyter notebook cells"
   ]
  },
  {
   "cell_type": "markdown",
   "id": "bc7c7af9",
   "metadata": {},
   "source": [
    "Some of popular languages that Data Scientists use are:"
   ]
  },
  {
   "cell_type": "markdown",
   "id": "65df0400",
   "metadata": {},
   "source": [
    "  1. Python\n",
    "  2. R\n",
    "  3. Julia\n",
    "  4. SQL"
   ]
  },
  {
   "cell_type": "markdown",
   "id": "587024e5",
   "metadata": {},
   "source": [
    "Some of the commonly used libraries used by Data Scientists include:"
   ]
  },
  {
   "cell_type": "markdown",
   "id": "b1b33b06",
   "metadata": {},
   "source": [
    "  1. Pandas\n",
    "  2. Pytorch\n",
    "  3. GGPLOT\n",
    "  4. Scikitlearn\n",
    "  5. Tensorflow"
   ]
  },
  {
   "cell_type": "markdown",
   "id": "32a7af62",
   "metadata": {},
   "source": [
    "|Data Sciecnce Tools|\n",
    "|----|\n",
    " |Rstudio|\n",
    " |JupyterLab|\n",
    " |Apache zeppelin|"
   ]
  },
  {
   "cell_type": "markdown",
   "id": "a46cdb14",
   "metadata": {},
   "source": [
    "### Below are a few examples of evaluating arithmetic expressions in Python:"
   ]
  },
  {
   "cell_type": "code",
   "execution_count": 1,
   "id": "b04f4c4c",
   "metadata": {},
   "outputs": [
    {
     "name": "stdout",
     "output_type": "stream",
     "text": [
      "Answer: 17\n"
     ]
    }
   ],
   "source": [
    "#This is simple arithmetic expression to multiply then add integers.\n",
    "\n",
    "a, b, c = 3, 4, 5\n",
    "X = a * b + c\n",
    "\n",
    "print(f\"Answer: {X}\")"
   ]
  },
  {
   "cell_type": "code",
   "execution_count": 4,
   "id": "02b245fb",
   "metadata": {},
   "outputs": [
    {
     "name": "stdout",
     "output_type": "stream",
     "text": [
      "Answer : 3 hours and 20 minutes, or 3.33 hours\n"
     ]
    }
   ],
   "source": [
    "#This will convert 200 minutes to hours\n",
    "\n",
    "minutes = 200\n",
    "minutes_per_hour = 60\n",
    "hours = int(minutes / minutes_per_hour)\n",
    "hours_d = minutes / minutes_per_hour\n",
    "minutes_over = minutes % minutes_per_hour\n",
    "print(f\"Answer : {hours} hours and {minutes_over} minutes, or {round(hours_d, 2)} hours\")"
   ]
  },
  {
   "cell_type": "markdown",
   "id": "0d0fe61e",
   "metadata": {},
   "source": [
    "## Author"
   ]
  },
  {
   "cell_type": "markdown",
   "id": "446489b1",
   "metadata": {},
   "source": [
    "Igor Gusach"
   ]
  },
  {
   "cell_type": "code",
   "execution_count": null,
   "id": "8c346e2b",
   "metadata": {},
   "outputs": [],
   "source": []
  }
 ],
 "metadata": {
  "celltoolbar": "Raw Cell Format",
  "kernelspec": {
   "display_name": "Python 3 (ipykernel)",
   "language": "python",
   "name": "python3"
  },
  "language_info": {
   "codemirror_mode": {
    "name": "ipython",
    "version": 3
   },
   "file_extension": ".py",
   "mimetype": "text/x-python",
   "name": "python",
   "nbconvert_exporter": "python",
   "pygments_lexer": "ipython3",
   "version": "3.10.9"
  }
 },
 "nbformat": 4,
 "nbformat_minor": 5
}
